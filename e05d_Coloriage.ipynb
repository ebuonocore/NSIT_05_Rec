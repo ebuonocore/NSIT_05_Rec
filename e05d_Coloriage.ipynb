{
 "cells": [
  {
   "cell_type": "markdown",
   "metadata": {},
   "source": [
    "<div style=\"width:100%;border-collapse:separate;border:solid 2px;border-radius:14px;\">\n",
    "    <div style=\"display:flex;\">\n",
    "        <div style=\"display:inline;width:5%;\"></div>\n",
    "        <div style=\"display:inline;width:15%;\">NSIT</div>\n",
    "        <div style=\"display:inline;width:15%;\">e05d</div>\n",
    "        <div style=\"display:inline;width:70%;text-align:right;\"><b>Langages et programmation</b></div>\n",
    "        <div style=\"display:inline;width:5%;\"></div>\n",
    "    </div>\n",
    "    <div  style=\"display: flex;background-color:#EEE\">\n",
    "        <p style=\"width:100%;text-align:center;\">La récursivité</p>\n",
    "    </div>\n",
    "    <div  style=\"display: flex;\">\n",
    "        <p style=\"width:100%;text-align:center;\">Coloriage</p>\n",
    "    </div>\n",
    "</div>"
   ]
  },
  {
   "cell_type": "markdown",
   "metadata": {},
   "source": [
    "<div class = \"alert alert-success\">\n",
    "    \n",
    "**Objectifs de la séquence:** \n",
    "- Mise en oeuvre d'un algorithme de coloriage récursif ?"
   ]
  },
  {
   "cell_type": "markdown",
   "metadata": {},
   "source": [
    "<div class = \"alert alert-info\">\n",
    "    \n",
    "**Sommaire :**\n",
    "\n",
    "- <a href=#intro>Introduction</a>  \n",
    "- <a href=#principe>Principe</a>  \n",
    "- <a href=#1D>On commence en 1D</a>  \n",
    "- <a href=#images>Ouvrir, lire et modifier une image</a>  \n",
    "- <a href=#2D>On passe à la 2D</a>  \n",
    "\n",
    "\n",
    "</div>"
   ]
  },
  {
   "cell_type": "markdown",
   "metadata": {},
   "source": [
    "<div id=\"intro\"></div>\n",
    "\n",
    "## Introduction\n",
    "![Un_p_tit_coloriage](https://github.com/ebuonocore/NSIT_05_Recursivite/blob/main/e05d_coloriage/licorne_1.png?raw=true)\n",
    "Allez, n'ayez pas honte... avouez qu'il y a quelque chose de satisfaisantt dans cette activité ;)\n",
    "\n",
    "Nous allons mettre en oeuvre l'algorithme qui permet de colorier de la même couleur des points inclus dans une même zone délimitée par un trait.\n",
    "\n",
    "L'algorithme derrière l'outil \"Pot de peinture\" est aussi le même qui permet de découvrir les zones sans mines au jeu du Démineur, ou, plus étonnant, celui qui permet de trouver la sortie d'un labyrinthe.\n",
    "\n",
    "Une version assez \"élégante\" de cet algorithme utilise la récursivité; mais il trouve rapidement ses limites dans le cas de \"grandes\" quantités de données à traiter, ce qui fait que dans la pratique les usages ci-dessus sont codées d'une autre manière ( que nous aborderons plus tard lors du chapitre sur les parcours de graphes )."
   ]
  },
  {
   "cell_type": "markdown",
   "metadata": {},
   "source": [
    "<div id=\"principe\"></div>\n",
    "\n",
    "## Principe\n",
    "\n",
    "Le point choisi à l'intérieur de la zone à colorier s'appelle le \"germe\" ou la \"graine\". A partir de lui, on appelle la fonction de remplissage :\n",
    "\n",
    "- on colorie le point avec la nouvelle couleur\n",
    "- on examine son voisin de droite : si il est toujours de la couleur d'origine, alors on propage la récursion à ce point\n",
    "- on fait pareil avec le voisin de gauche, celui du haut, et du bas ( et éventuellement, dans une version plus évoluée, le voisin en haut à gauche, en haut à droite, etc...)\n",
    "\n",
    "Et c'est tout ! Facile, non ? ( en fait, il manque quelques \"sécurités\" à cet algorithme, notamment vérifier que l'on ne sort pas de la zone de dessin...)\n",
    "\n",
    "Mais attendez voir...je vois bien les appels récursifs, mais où est le cas de base ?\n",
    "\n",
    "Il est en fait combiné avec le cas général dans l'évaluation des conditions : si le point n'est pas de la couleur d'origine, alors c'est qu'il est de la couleur d'une ligne frontière : la récursion s'arrête alors.\n",
    "\n",
    "![Propagation_recursivité](https://github.com/ebuonocore/NSIT_05_Recursivite/blob/main/e05d_coloriage/animation_propagation_rec.gif?raw=true)"
   ]
  },
  {
   "cell_type": "markdown",
   "metadata": {},
   "source": [
    "<div id=\"1D\"></div>\n",
    "\n",
    "## On commence en 1D\n",
    "\n",
    "Soit une liste de pixels bien gentiment alignés.  \n",
    "Arbitrairement, nous choisissons de désigner par '0' les pixels blancs 'à colorier'  \n",
    "Par '1' les pixels noirs (les délimitations)  \n",
    "Par '2' les pixels coloriés.  \n",
    "\n"
   ]
  },
  {
   "cell_type": "code",
   "execution_count": 12,
   "metadata": {},
   "outputs": [],
   "source": [
    "liste_pixels = [1, 0, 0 , 0, 1, 0, 0, 0, 0, 0, 0, 0, 0, 0, 0, 1, 0, 0, 0, 0, 0, 0, 0, 0, 1]"
   ]
  },
  {
   "cell_type": "markdown",
   "metadata": {},
   "source": [
    "\n",
    "![Propagation_recursivité](https://github.com/ebuonocore/NSIT_05_Recursivite/blob/main/e05d_coloriage/1D_1.png?raw=true)\n",
    "La 'graine' se situe au dixième pixel (indice 9 de notre liste)  \n",
    "A la fin de notre traitement, tous les pixels blans contigues à la graine seont coloriés.\n",
    "\n",
    "\n",
    "![Propagation_recursivité](https://github.com/ebuonocore/NSIT_05_Recursivite/blob/main/e05d_coloriage/1D_2.png?raw=true)"
   ]
  },
  {
   "cell_type": "markdown",
   "metadata": {},
   "source": [
    "#### Premier programme de coloriage\n",
    "Ci dessous la fonction <code>rempli_1D()</code> prend en paramètre la liste à colorier et l'indice (l'abscisse) du point à colorier (et d'où il faut continuer à propager le coloriage)\n"
   ]
  },
  {
   "cell_type": "code",
   "execution_count": 20,
   "metadata": {},
   "outputs": [
    {
     "data": {
      "text/plain": [
       "[1, 0, 0, 0, 1, 2, 2, 2, 2, 2, 2, 2, 2, 2, 2, 1, 0, 0, 0, 0, 0, 0, 0, 0, 1]"
      ]
     },
     "execution_count": 20,
     "metadata": {},
     "output_type": "execute_result"
    }
   ],
   "source": [
    "def rempli_1D(ma_liste, abscisse):\n",
    "    if ma_liste[abscisse] == 0: # Si le point est blanc\n",
    "        ma_liste[abscisse] = 2 # Je change la couleur\n",
    "        rempli_1D(ma_liste, abscisse - 1) # On poursuit l'exploration par la gauche\n",
    "        rempli_1D(ma_liste, abscisse + 1) # On poursuit l'exploration par la droite\n",
    "        \n",
    "liste_pixels = [1, 0, 0 , 0, 1, 0, 0, 0, 0, 0, 0, 0, 0, 0, 0, 1, 0, 0, 0, 0, 0, 0, 0, 0, 1]\n",
    "rempli_1D(liste_pixels, 9) # On lance le remplissage depuis la graine\n",
    "liste_pixels"
   ]
  },
  {
   "cell_type": "markdown",
   "metadata": {},
   "source": [
    "En ajoutant quelques 'print' nous pouvons faire apparaître l'ordre des appels récursifs.  \n",
    "Nous pouvons même dessiner l'arbre de ces appels."
   ]
  },
  {
   "cell_type": "code",
   "execution_count": 24,
   "metadata": {},
   "outputs": [
    {
     "name": "stdout",
     "output_type": "stream",
     "text": [
      "9 -> 8  8 -> 7  7 -> 6  6 -> 5  5 -> 4  4 X\n",
      "5 -> 6  6 X\n",
      "6 -> 7  7 X\n",
      "7 -> 8  8 X\n",
      "8 -> 9  9 X\n",
      "9 -> 10  10 -> 9  9 X\n",
      "10 -> 11  11 -> 10  10 X\n",
      "11 -> 12  12 -> 11  11 X\n",
      "12 -> 13  13 -> 12  12 X\n",
      "13 -> 14  14 -> 13  13 X\n",
      "14 -> 15  15 X\n"
     ]
    },
    {
     "data": {
      "text/plain": [
       "[1, 0, 0, 0, 1, 2, 2, 2, 2, 2, 2, 2, 2, 2, 2, 1, 0, 0, 0, 0, 0, 0, 0, 0, 1]"
      ]
     },
     "execution_count": 24,
     "metadata": {},
     "output_type": "execute_result"
    }
   ],
   "source": [
    "def rempli_1D(ma_liste, abscisse):\n",
    "    if ma_liste[abscisse] == 0: # Si le point est blanc\n",
    "        ma_liste[abscisse] = 2 # Je change la couleur\n",
    "        print(abscisse, \"->\", abscisse-1, end=\"  \")\n",
    "        rempli_1D(ma_liste, abscisse - 1) # On poursuit l'exploration par la gauche\n",
    "        print(abscisse, \"->\", abscisse+1, end=\"  \")\n",
    "        rempli_1D(ma_liste, abscisse + 1) # On poursuit l'exploration par la droite\n",
    "    else:\n",
    "        print(abscisse,\"X\")\n",
    "        \n",
    "liste_pixels = [1, 0, 0 , 0, 1, 0, 0, 0, 0, 0, 0, 0, 0, 0, 0, 1, 0, 0, 0, 0, 0, 0, 0, 0, 1]\n",
    "rempli_1D(liste_pixels, 9) # On lance le remplissage depuis la graine\n",
    "liste_pixels"
   ]
  },
  {
   "cell_type": "markdown",
   "metadata": {},
   "source": [
    "![Arbre_appels](https://github.com/ebuonocore/NSIT_05_Recursivite/blob/main/e05d_coloriage/1D_arbre_appels.png?raw=true)"
   ]
  },
  {
   "cell_type": "markdown",
   "metadata": {},
   "source": [
    "#### Les rambardes de sécurité\n",
    "Que se passe-t-il si les pixels aux extrémités ne sont pas noirs?\n",
    "![Rambarde](https://github.com/ebuonocore/NSIT_05_Recursivite/blob/main/e05d_coloriage/1D_rambarde.png?raw=true)"
   ]
  },
  {
   "cell_type": "markdown",
   "metadata": {},
   "source": [
    "Reprenez le programme précédent en ajoutant des tests pour ne pas propager la récursivité au-delà de la liste.  \n",
    "Et testez le sur 'liste_pixels2', privée de contours aux extrémités."
   ]
  },
  {
   "cell_type": "code",
   "execution_count": 3,
   "metadata": {},
   "outputs": [
    {
     "data": {
      "text/plain": [
       "[2, 2, 2, 2, 2, 2, 2, 2, 2, 2, 2, 2, 2, 2, 2, 1, 0, 0, 0, 0, 0, 0, 0, 0, 1]"
      ]
     },
     "execution_count": 3,
     "metadata": {},
     "output_type": "execute_result"
    }
   ],
   "source": [
    "def rempli_1D_mieux(ma_liste, abscisse):\n",
    "    if ma_liste[abscisse] == 0: # Si le point est blanc\n",
    "        ma_liste[abscisse] = 2 # Je change la couleur\n",
    "        # rambarde de sécurité à gauche à programmer !\n",
    "        rempli_1D_mieux(ma_liste, abscisse - 1) # On poursuit l'exploration par la gauche\n",
    "        # rambarde de sécurité à droite à programmer !\n",
    "        rempli_1D_mieux(ma_liste, abscisse + 1) # On poursuit l'exploration par la droite\n",
    "        \n",
    "liste_pixels2 = [0, 0, 0 , 0, 0, 0, 0, 0, 0, 0, 0, 0, 0, 0, 0, 1, 0, 0, 0, 0, 0, 0, 0, 0, 1]\n",
    "rempli_1D_mieux(liste_pixels2, 9) # On lance le remplissage depuis la graine\n",
    "liste_pixels2"
   ]
  },
  {
   "cell_type": "markdown",
   "metadata": {},
   "source": [
    "Lien vers <a href=\"https://github.com/ebuonocore/NSIT_05_Recursivite/blob/main/e05d_coloriage/NSIT_05_correction_rempli_1D_mieux.py\">une correction</a>"
   ]
  },
  {
   "cell_type": "markdown",
   "metadata": {},
   "source": [
    "<div id=\"images\"></div>\n",
    "\n",
    "## Ouvrir, lire et modifier une image\n",
    "\n",
    "Nous allons utiliser les modules suivant pour manipuler les fichiers image:PIL, matplotlib.pyplot et urllib.request  \n",
    "Pour revenir plus en détail sur leur utilisation vous pouvez parcourir l'activité <a href=\"https://mybinder.org/v2/gh/ebuonocore/SNT_8_Photographie/master\">SNT_8c_Photo</a>\n",
    "Sinon en voici un exemple commenté d'utilisation:"
   ]
  },
  {
   "cell_type": "code",
   "execution_count": 8,
   "metadata": {},
   "outputs": [
    {
     "name": "stdout",
     "output_type": "stream",
     "text": [
      "L'image totalise 400 pixels\n",
      "Elle fait 20 * 20 px\n",
      "Canal Rouge: 247 Canal Vert: 213 Canal Bleu: 2\n"
     ]
    },
    {
     "data": {
      "text/plain": [
       "<matplotlib.image.AxesImage at 0x7f2131fb9c50>"
      ]
     },
     "execution_count": 8,
     "metadata": {},
     "output_type": "execute_result"
    },
    {
     "data": {
      "image/png": "[encoded data removed]",
      "text/plain": [
       "<Figure size 432x288 with 1 Axes>"
      ]
     },
     "metadata": {
      "needs_background": "light"
     },
     "output_type": "display_data"
    }
   ],
   "source": [
    "from PIL import Image # Nous allons nous en servir pour accéder aux pixels\n",
    "import matplotlib.pyplot as plt # Utile ici pour afficher l'image\n",
    "from urllib.request import urlopen  # Pour ouvrir des images sur Internet\n",
    "\n",
    "# On récupère d'abord l'adresse d'une image sur Internet\n",
    "lien_url = \"https://github.com/ebuonocore/SNT_8_Photographie/blob/master/images/smiley_20_20_RVB.png?raw=true\"\n",
    "# Ouverture de l'image \"smiley_20_20_RVB.png\" pointées par le l'adresse URL\n",
    "img = Image.open(urlopen(lien_url))\n",
    "# Le fichier image est alors 'mémorisé' dans la variable 'img'\n",
    "\n",
    "#Récupération et affichage des dimensions de l'image\n",
    "largeur, hauteur = img.size\n",
    "print(\"L'image totalise\", largeur*hauteur, \"pixels\")\n",
    "print(\"Elle fait\", largeur,\"*\", hauteur, \"px\")\n",
    "\n",
    "r,v,b = img.getpixel((4,8))\n",
    "print(\"Canal Rouge:\", r, \"Canal Vert:\", v, \"Canal Bleu:\", b)\n",
    "\n",
    "img.putpixel((9,3),(0,230,0)) # Je modifie le point de coordonnées (9,3) vers le milieu du front\n",
    "plt.imshow(img) # J'affiche l'image qui correspond à la variable 'img'"
   ]
  },
  {
   "cell_type": "markdown",
   "metadata": {},
   "source": [
    "<div id=\"2D\"></div>\n",
    "\n",
    "## On passe à la 2D\n",
    "Prochaine mission: Donner des couleurs à ce camion!\n",
    "![camion_1](https://github.com/ebuonocore/NSIT_05_Recursivite/blob/main/e05d_coloriage/camion_1.jpg?raw=true)"
   ]
  },
  {
   "cell_type": "code",
   "execution_count": 49,
   "metadata": {},
   "outputs": [
    {
     "data": {
      "text/plain": [
       "<matplotlib.image.AxesImage at 0x7f212b863610>"
      ]
     },
     "execution_count": 49,
     "metadata": {},
     "output_type": "execute_result"
    },
    {
     "data": {
      "image/png": "[encoded data removed]",
      "text/plain": [
       "<Figure size 432x288 with 1 Axes>"
      ]
     },
     "metadata": {
      "needs_background": "light"
     },
     "output_type": "display_data"
    }
   ],
   "source": [
    "from PIL import Image # Nous allons nous en servir pour accéder aux pixels\n",
    "import matplotlib.pyplot as plt # Utile ici pour afficher l'image\n",
    "from urllib.request import urlopen  # Pour ouvrir des images sur Internet\n",
    "\n",
    "def pixel_blanc(pos:tuple)->bool:\n",
    "    \"\"\" Renvoie True si la moyenne des 3 couleurs du point dépasse 240\n",
    "    \"\"\"\n",
    "    r,v,b = img.getpixel(pos)\n",
    "    if r+v+b > 720:\n",
    "        return True\n",
    "    else:\n",
    "        return False\n",
    "\n",
    "def rempli(img:Image,pos:tuple, couleur:tuple):\n",
    "    \"\"\" Prend une image, une position et une couleur en paramètre\n",
    "        pos[0] = abscisse\n",
    "        pos[1] = ordonée\n",
    "        Parcours récursivement l'image depuis pos pour colorier la zone délimitée par des pixels non-blancs\n",
    "    \"\"\"\n",
    "    largeur, hauteur = img.size\n",
    "    x,y = pos # On récupère les deux données du tuple pos\n",
    "    if pixel_blanc(pos):\n",
    "        img.putpixel(pos,couleur) # Comme ce pixel est plutôt blanc, on le colorie en rouge\n",
    "        if x > 0: # S'il reste au moins un pixel à gauche\n",
    "            rempli(img,(x-1, y),couleur) # On explore le pixel à gauche\n",
    "        if x < largeur-1: # S'il reste au moins un pixel à droite\n",
    "            rempli(img,(x+1, y),couleur) # On explore le pixel à droite  \n",
    "        if y > 0: # S'il reste au moins un pixel en haut\n",
    "            rempli(img,(x, y-1),couleur) # On explore le pixel en haut\n",
    "        if y < hauteur-1: # S'il reste au moins un pixel en bas\n",
    "            rempli(img,(x, y+1),couleur)  # On explore le pixel en bas\n",
    "        \n",
    "# Corps du programme\n",
    "# On récupère d'abord l'adresse d'une image sur Internet\n",
    "lien_url = \"https://github.com/ebuonocore/NSIT_05_Recursivite/blob/main/e05d_coloriage/camion_2.png?raw=true\"\n",
    "# Ouverture de l'image\n",
    "img = Image.open(urlopen(lien_url)) # Le fichier image est alors 'mémorisé' dans la variable 'img'\n",
    "\n",
    "ROUGE = (255,0,0)\n",
    "BLEU = (50, 50, 240)\n",
    "GRIS = (60, 60, 60)\n",
    "rempli(img,(90,80), ROUGE)\n",
    "rempli(img,(25,80), ROUGE)\n",
    "rempli(img,(65,50), ROUGE)\n",
    "rempli(img,(53,50), ROUGE)\n",
    "rempli(img,(43,50), ROUGE)\n",
    "rempli(img,(34,50), ROUGE)\n",
    "rempli(img,(5,5), BLEU)\n",
    "rempli(img,(5,125), GRIS)\n",
    "rempli(img,(125,125), GRIS)\n",
    "plt.imshow(img) # J'affiche l'image qui correspond à la variable 'img'"
   ]
  },
  {
   "cell_type": "markdown",
   "metadata": {},
   "source": [
    "---\n",
    "<p style=\"font-family:Comic Sans MS; text-align: center; color:gray; font-size: x-small; \">- Eric Buonocore. Octobre 2020 -<br></p>\n",
    "\n",
    "![Licence CC BY NC SA](https://licensebuttons.net/l/by-nc-sa/3.0/88x31.png)"
   ]
  }
 ],
 "metadata": {
  "kernelspec": {
   "display_name": "Python 3",
   "language": "python",
   "name": "python3"
  },
  "language_info": {
   "codemirror_mode": {
    "name": "ipython",
    "version": 3
   },
   "file_extension": ".py",
   "mimetype": "text/x-python",
   "name": "python",
   "nbconvert_exporter": "python",
   "pygments_lexer": "ipython3",
   "version": "3.7.6"
  }
 },
 "nbformat": 4,
 "nbformat_minor": 4
}
